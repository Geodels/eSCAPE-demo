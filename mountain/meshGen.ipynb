{
 "cells": [
  {
   "cell_type": "markdown",
   "metadata": {},
   "source": [
    "# Building flat unstructured geometries"
   ]
  },
  {
   "cell_type": "code",
   "execution_count": null,
   "metadata": {},
   "outputs": [],
   "source": [
    "import pycpt\n",
    "import lavavu\n",
    "\n",
    "import meshio\n",
    "import stripy\n",
    "import numpy as np\n",
    "import pygmsh as pg\n",
    "\n",
    "from scipy.interpolate import RectBivariateSpline\n",
    "\n",
    "import matplotlib\n",
    "import matplotlib.pyplot as plt\n",
    "from matplotlib.path import Path\n",
    "from mpl_toolkits.axes_grid1 import make_axes_locatable\n",
    "\n",
    "label_size = 8\n",
    "matplotlib.rcParams['xtick.labelsize'] = label_size \n",
    "matplotlib.rcParams['ytick.labelsize'] = label_size\n",
    "\n",
    "%matplotlib inline\n",
    "%config InlineBackend.figure_format = 'svg' "
   ]
  },
  {
   "cell_type": "markdown",
   "metadata": {},
   "source": [
    "## Using pyGmsh library\n",
    "\n",
    "Using `pyGmsh` library, which is a Python interface to `Gmsh`: a powerful mesh generation tool:\n",
    "\n",
    "- https://github.com/nschloe/pygmsh\n",
    "\n",
    "The resolution of the mesh is defined based on the characteristic length parameter `lcar`.\n",
    "\n",
    "There are several different ways of defining the mesh, here we use an approach similar to what we've done previously with `stripy` and use the border coordinates to create our delaunay triangulation.\n",
    "\n",
    "### Bounding box\n",
    "\n",
    "We first initialise a pyGmsh instance and define the characteristc length `lcar`:"
   ]
  },
  {
   "cell_type": "code",
   "execution_count": null,
   "metadata": {},
   "outputs": [],
   "source": [
    "minX, maxX = 0.0, 100000.0\n",
    "minY, maxY = 0.0, 100000.0\n",
    "\n",
    "lcar = 200\n",
    "geom1 = pg.built_in.Geometry()"
   ]
  },
  {
   "cell_type": "markdown",
   "metadata": {},
   "source": [
    "We then define the polygon based on the box extent:"
   ]
  },
  {
   "cell_type": "code",
   "execution_count": null,
   "metadata": {},
   "outputs": [],
   "source": [
    "poly = geom1.add_polygon([\n",
    "    [ minX,  minY, 0.0],\n",
    "    [ maxX,  minY, 0.0],\n",
    "    [ maxX,  maxY, 0.0],\n",
    "    [ minX,  maxY, 0.0]\n",
    "    ],\n",
    "    lcar\n",
    "    )"
   ]
  },
  {
   "cell_type": "markdown",
   "metadata": {},
   "source": [
    "We then generate the mesh..."
   ]
  },
  {
   "cell_type": "code",
   "execution_count": null,
   "metadata": {},
   "outputs": [],
   "source": [
    "points, cells, _, _, _ = pg.generate_mesh(geom1)"
   ]
  },
  {
   "cell_type": "code",
   "execution_count": null,
   "metadata": {},
   "outputs": [],
   "source": [
    "print(\"Unstructured Grid Geometry Characteristics:\\n\")\n",
    "\n",
    "print(\"Number of points         nbpt: {}\".format(points.shape[0]))\n",
    "print(\"Number of faces       nbcells: {}\".format(cells['triangle'].shape[0]))"
   ]
  },
  {
   "cell_type": "markdown",
   "metadata": {},
   "source": [
    "# Random elevation"
   ]
  },
  {
   "cell_type": "markdown",
   "metadata": {},
   "source": [
    "To create the elevation grids not much needs to be done. Basically we will create an array XYZ in numpy that we will write to the disk."
   ]
  },
  {
   "cell_type": "code",
   "execution_count": null,
   "metadata": {},
   "outputs": [],
   "source": [
    "randomZ = np.random.rand(points.shape[0])"
   ]
  },
  {
   "cell_type": "markdown",
   "metadata": {},
   "source": [
    "We use `meshio` to create a VTK file that will then be passed to the landscape evolution model."
   ]
  },
  {
   "cell_type": "code",
   "execution_count": null,
   "metadata": {},
   "outputs": [],
   "source": [
    "# Creation of the X,Y,Z coordinates of the unstructured grid\n",
    "verts = np.insert(points[:,:2], 2, values=randomZ, axis=1)"
   ]
  },
  {
   "cell_type": "code",
   "execution_count": null,
   "metadata": {},
   "outputs": [],
   "source": [
    "mesh = meshio.Mesh(verts, cells, {'Z':randomZ})\n",
    "meshio.write(\"randomflat.vtk\", mesh)"
   ]
  },
  {
   "cell_type": "code",
   "execution_count": null,
   "metadata": {},
   "outputs": [],
   "source": []
  }
 ],
 "metadata": {
  "kernelspec": {
   "display_name": "Python 2",
   "language": "python",
   "name": "python2"
  },
  "language_info": {
   "codemirror_mode": {
    "name": "ipython",
    "version": 2
   },
   "file_extension": ".py",
   "mimetype": "text/x-python",
   "name": "python",
   "nbconvert_exporter": "python",
   "pygments_lexer": "ipython2",
   "version": "2.7.12"
  }
 },
 "nbformat": 4,
 "nbformat_minor": 2
}
