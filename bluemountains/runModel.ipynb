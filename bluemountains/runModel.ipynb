{
 "cells": [
  {
   "cell_type": "code",
   "execution_count": 20,
   "metadata": {
    "scrolled": false
   },
   "outputs": [
    {
     "name": "stdout",
     "output_type": "stream",
     "text": [
      "\u001b[39mrunning install\u001b[0m\n",
      "\u001b[39mrunning build\u001b[0m\n",
      "\u001b[39mrunning config_cc\u001b[0m\n",
      "\u001b[39munifing config_cc, config, build_clib, build_ext, build commands --compiler options\u001b[0m\n",
      "\u001b[39mrunning config_fc\u001b[0m\n",
      "\u001b[39munifing config_fc, config, build_clib, build_ext, build commands --fcompiler options\u001b[0m\n",
      "\u001b[39mrunning build_src\u001b[0m\n",
      "\u001b[39mbuild_src\u001b[0m\n",
      "\u001b[39mbuilding extension \"gSCAPE._fortran\" sources\u001b[0m\n",
      "\u001b[39mf2py options: []\u001b[0m\n",
      "\u001b[39m  adding 'build/src.linux-x86_64-2.7/build/src.linux-x86_64-2.7/fortran/fortranobject.c' to sources.\u001b[0m\n",
      "\u001b[39m  adding 'build/src.linux-x86_64-2.7/build/src.linux-x86_64-2.7/fortran' to include_dirs.\u001b[0m\n",
      "\u001b[39mbuild_src: building npy-pkg config files\u001b[0m\n",
      "\u001b[39mrunning build_py\u001b[0m\n",
      "\u001b[39mcopying gSCAPE/flow/surfprocplex.py -> build/lib.linux-x86_64-2.7/gSCAPE/flow\u001b[0m\n",
      "\u001b[39mrunning build_ext\u001b[0m\n",
      "\u001b[39mcustomize UnixCCompiler\u001b[0m\n",
      "\u001b[39mcustomize UnixCCompiler using build_ext\u001b[0m\n",
      "\u001b[39mget_default_fcompiler: matching types: '['gnu95', 'intel', 'lahey', 'pg', 'absoft', 'nag', 'vast', 'compaq', 'intele', 'intelem', 'gnu', 'g95', 'pathf95', 'nagfor']'\u001b[0m\n",
      "\u001b[39mcustomize Gnu95FCompiler\u001b[0m\n",
      "\u001b[39mFound executable /usr/bin/gfortran\u001b[0m\n",
      "\u001b[39mcustomize Gnu95FCompiler\u001b[0m\n",
      "\u001b[39mcustomize Gnu95FCompiler using build_ext\u001b[0m\n",
      "\u001b[39mrunning install_lib\u001b[0m\n",
      "\u001b[39mcopying build/lib.linux-x86_64-2.7/gSCAPE/flow/surfprocplex.py -> /usr/local/lib/python2.7/dist-packages/gSCAPE/flow\u001b[0m\n",
      "\u001b[39mbyte-compiling /usr/local/lib/python2.7/dist-packages/gSCAPE/flow/surfprocplex.py to surfprocplex.pyc\u001b[0m\n",
      "\u001b[39mrunning install_egg_info\u001b[0m\n",
      "\u001b[39mRemoving /usr/local/lib/python2.7/dist-packages/gSCAPE-0.1.egg-info\u001b[0m\n",
      "\u001b[39mWriting /usr/local/lib/python2.7/dist-packages/gSCAPE-0.1.egg-info\u001b[0m\n",
      "\u001b[39mrunning install_clib\u001b[0m\n",
      "\u001b[39mcustomize UnixCCompiler\u001b[0m\n"
     ]
    }
   ],
   "source": [
    "!cd /live/share/gSCAPE/; python setup.py install"
   ]
  },
  {
   "cell_type": "markdown",
   "metadata": {},
   "source": [
    "You will need to run the `meshGen` notebook to produce the topographic file required to run the model!\n",
    "\n",
    "All the input parameters are specify in the `input_bluemountain.yml` file."
   ]
  },
  {
   "cell_type": "code",
   "execution_count": 28,
   "metadata": {
    "scrolled": false
   },
   "outputs": [
    {
     "name": "stdout",
     "output_type": "stream",
     "text": [
      "--- Initialisation Phase (6.84 seconds)\n",
      "+++ Output Simulation Time: -1000000.00 years\n",
      "--- Computational Step (37.84 seconds)\n",
      "+++ Output Simulation Time: -999900.00 years\n",
      "--- Computational Step (38.35 seconds)\n",
      "+++ Output Simulation Time: -999800.00 years\n",
      "--- Computational Step (38.85 seconds)\n",
      "+++ Output Simulation Time: -999700.00 years\n",
      "--- Computational Step (39.50 seconds)\n",
      "+++ Output Simulation Time: -999600.00 years\n",
      "--- Computational Step (39.59 seconds)\n",
      "+++ Output Simulation Time: -999500.00 years\n",
      "--- Computational Step (39.79 seconds)\n",
      "+++ Output Simulation Time: -999400.00 years\n",
      "--- Computational Step (39.78 seconds)\n",
      "+++ Output Simulation Time: -999300.00 years\n",
      "--- Computational Step (40.07 seconds)\n",
      "+++ Output Simulation Time: -999200.00 years\n",
      "--- Computational Step (40.41 seconds)\n",
      "+++ Output Simulation Time: -999100.00 years\n",
      "--- Computational Step (40.49 seconds)\n",
      "+++ Output Simulation Time: -999000.00 years\n",
      "--- Computational Step (40.60 seconds)\n",
      "\n",
      "+++\n",
      "+++ Total run time (442.11 seconds)\n",
      "+++\n"
     ]
    }
   ],
   "source": [
    "!mpirun -np 4 python run_gspace.py -i input_bluemountains.yml"
   ]
  },
  {
   "cell_type": "code",
   "execution_count": null,
   "metadata": {},
   "outputs": [],
   "source": []
  }
 ],
 "metadata": {
  "kernelspec": {
   "display_name": "Python 2",
   "language": "python",
   "name": "python2"
  },
  "language_info": {
   "codemirror_mode": {
    "name": "ipython",
    "version": 2
   },
   "file_extension": ".py",
   "mimetype": "text/x-python",
   "name": "python",
   "nbconvert_exporter": "python",
   "pygments_lexer": "ipython2",
   "version": "2.7.12"
  }
 },
 "nbformat": 4,
 "nbformat_minor": 2
}
