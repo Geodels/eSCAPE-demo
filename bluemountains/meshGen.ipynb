{
 "cells": [
  {
   "cell_type": "markdown",
   "metadata": {},
   "source": [
    "# Building a mesh from GeoTIFF files\n",
    "\n",
    "<div class=\"alert alert-block alert-info\"> GeoTIFF files are raster dataset embedding Geographic Information (latitude, longitude, map projection etc.) The geographic data of a GeoTIFF file can be used to position the image in the correct location and geometry and build structured and unstructured meshes used in our landscape evolution model.  \n",
    "\n",
    "In this example, we use a dataset of the Blue Mountains region (100 km West of Sydney AU) that can be extracted from the ASTER Global DEM from USGS Global Data Explorer website: \n",
    "**https://gdex.cr.usgs.gov/gdex/**</div>\n",
    "\n",
    "\n",
    "You can find an non-exhaustive list of available digital elvation dataset in the following website: \n",
    "+ https://github.com/openterrain/openterrain/wiki/Terrain-Data\n",
    "\n",
    "***\n",
    "\n",
    "<img src=\"images/bluemountains.png\" width=\"70%\">\n",
    "\n",
    "***\n",
    "\n",
    "## Notebook contents\n",
    "\n",
    "   - [Converting from lon/lat to metres](#Converting-from-lon/lat-to-metres)\n",
    "   - [Clipped elevation grid](#Clipped-elevation-grid)\n",
    "   - [X & Y axes](#X-&-Y-axes)\n",
    "   - [Structured elevation grid](#Structured-elevation-grid)\n",
    "   - [Unstructured elevation grids](#Unstructured-elevation-grids)\n",
    "   \n"
   ]
  },
  {
   "cell_type": "code",
   "execution_count": null,
   "metadata": {},
   "outputs": [],
   "source": [
    "import pycpt\n",
    "import lavavu\n",
    "\n",
    "import meshio\n",
    "import numpy as np\n",
    "import pygmsh as pg\n",
    "import stripy as stripy\n",
    "import fillit as pitfill\n",
    "\n",
    "from scipy.interpolate import RectBivariateSpline\n",
    "\n",
    "import matplotlib\n",
    "import matplotlib.pyplot as plt\n",
    "from mpl_toolkits.axes_grid1 import make_axes_locatable\n",
    "\n",
    "import meshplex\n",
    "from eSCAPE._fortran import defineGTIN\n",
    "\n",
    "label_size = 8\n",
    "matplotlib.rcParams['xtick.labelsize'] = label_size \n",
    "matplotlib.rcParams['ytick.labelsize'] = label_size\n",
    "\n",
    "%matplotlib inline\n",
    "%config InlineBackend.figure_format = 'svg' "
   ]
  },
  {
   "cell_type": "markdown",
   "metadata": {},
   "source": [
    "# Converting from lon/lat to metres\n",
    "\n",
    "To reproject the grid from lon/lat coordinates to UTM (metres), two main libraries are available within the Docker image:\n",
    "\n",
    "+ `pygeotools` -- https://github.com/dshean/pygeotools\n",
    "+ `rasterio` -- https://github.com/mapbox/rasterio\n",
    "\n",
    "First, we specify our DEM filename:"
   ]
  },
  {
   "cell_type": "code",
   "execution_count": null,
   "metadata": {},
   "outputs": [],
   "source": [
    "filename = 'data/BlueMountains.tif'"
   ]
  },
  {
   "cell_type": "markdown",
   "metadata": {},
   "source": [
    "If `pygeotools` is used, you will load the `warplib` library and will need to define the resolution `utmRes` and the **coordinate system** you want to used for your new projection `utmProj`. \n",
    "\n",
    "As an example, here we use the UTM zone 55 for the southern hemisphere based on the location of our dataset. \n",
    "Once the `warplib` library has done the projection transformation you will be able to access the projected dataset as a numpy masked array using the `iolib` library from `pygeotools`.\n",
    "\n",
    "\n",
    "It will typically be used as follows:\n",
    "\n",
    "``` python\n",
    "from pygeotools.lib import iolib,geolib,warplib\n",
    "\n",
    "utmRes = 30.\n",
    "utmProj = \"+proj=utm +zone=55 +south +datum=WGS84 +ellps=WGS84 \"\n",
    "utmData = warplib.diskwarp_multi_fn( [filename], t_srs = utmProj, res = utmRes)\n",
    "utm = iolib.ds_getma(utmData[0]) \n",
    "\n",
    "```\n",
    "\n",
    "Below, we show how this can be done using `rasterio`. First we load the required libraries and then define the requested projection (here we used **EPSG reference** for the region `EPSG:32756` - available from http://spatialreference.org/ref/epsg/). "
   ]
  },
  {
   "cell_type": "code",
   "execution_count": null,
   "metadata": {},
   "outputs": [],
   "source": [
    "import rasterio\n",
    "from rasterio import crs\n",
    "from rasterio.warp import calculate_default_transform, reproject, Resampling\n",
    "\n",
    "# Name of the reprojected UTM file to be created\n",
    "outputfile = 'data/BlueMountainsUTM.tif'\n",
    "\n",
    "# Reproject to UTM zone 55 S \n",
    "dst_crs = {'init': 'EPSG:32756'}\n",
    "\n",
    "# Requested reprojected dataset resolution (metres)\n",
    "utmRes = 50."
   ]
  },
  {
   "cell_type": "markdown",
   "metadata": {},
   "source": [
    "We then use the following cell to make the projection and get the interpolated elevation points at the requested resolution (`elev` -- a numpy masked array)"
   ]
  },
  {
   "cell_type": "code",
   "execution_count": null,
   "metadata": {},
   "outputs": [],
   "source": [
    "with rasterio.drivers(CHECK_WITH_INVERT_PROJ=True):\n",
    "    with rasterio.open(filename) as src:\n",
    "\n",
    "        profile = src.profile\n",
    "        if src.nodata is None:\n",
    "            nodata = -32768.0\n",
    "        else:\n",
    "            nodata = src.nodata\n",
    "\n",
    "        # Calculate the ideal dimensions and transformation in the new crs\n",
    "        dst_affine, dst_width, dst_height = calculate_default_transform(\n",
    "            src.crs, dst_crs, src.width, src.height, *src.bounds, resolution=utmRes)\n",
    "\n",
    "        # update the relevant parts of the profile\n",
    "        profile.update({\n",
    "            'crs': dst_crs,\n",
    "            'transform': dst_affine,\n",
    "            'affine': dst_affine,\n",
    "            'width': dst_width,\n",
    "            'height': dst_height\n",
    "        })\n",
    "       \n",
    "        # Reproject and write each band\n",
    "        with rasterio.open(outputfile, 'w', **profile) as dst:\n",
    "            src_array = src.read()\n",
    "            dst_array = np.empty((int(dst_height), int(dst_width)), dtype='int16')\n",
    "\n",
    "            reproject(\n",
    "                    # Source parameters\n",
    "                    source=src_array,\n",
    "                    src_crs=src.crs,\n",
    "                    src_transform=src.affine,\n",
    "                    src_nodata=nodata,\n",
    "\n",
    "                    # Destination paramaters\n",
    "                    destination=dst_array,\n",
    "                    dst_transform=dst_affine,\n",
    "                    dst_crs=dst_crs,\n",
    "                    dst_nodata=nodata,\n",
    "\n",
    "                    # Configuration\n",
    "                    resampling=Resampling.nearest,\n",
    "                    num_threads=2)\n",
    "\n",
    "            dst.write(dst_array,1)\n",
    "            elev = np.ma.masked_where(dst_array == nodata, dst_array)"
   ]
  },
  {
   "cell_type": "markdown",
   "metadata": {},
   "source": [
    "We can look at the `metadata` associated with the new GeoTIFF file using for example:"
   ]
  },
  {
   "cell_type": "code",
   "execution_count": null,
   "metadata": {},
   "outputs": [],
   "source": [
    "dst.meta"
   ]
  },
  {
   "cell_type": "markdown",
   "metadata": {},
   "source": [
    "# Clipped elevation grid"
   ]
  },
  {
   "cell_type": "markdown",
   "metadata": {},
   "source": [
    "We can visualise the new elevation array using the following function:"
   ]
  },
  {
   "cell_type": "code",
   "execution_count": null,
   "metadata": {},
   "outputs": [],
   "source": [
    "def plotElevation( data, cmin, cmax, colormap):\n",
    "    '''\n",
    "    data: dataset to plot\n",
    "    cmin,cmax: extent of the colormap\n",
    "    colormap: color scale to use   \n",
    "    '''\n",
    "    \n",
    "    # Figure size is defined here\n",
    "    fig = plt.figure(1, figsize=(8,8))\n",
    "    \n",
    "    ax = plt.gca()\n",
    "    im = ax.imshow(np.flipud(data), interpolation='nearest', cmap=colormap,\n",
    "                     vmin=cmin, vmax=cmax)\n",
    "    divider = make_axes_locatable(ax)\n",
    "    cax = divider.append_axes(\"right\", size=\"3%\", pad=0.1)\n",
    "    cbar = plt.colorbar(im,cax=cax)\n",
    "    plt.tight_layout()\n",
    "\n",
    "    plt.show()\n",
    "    plt.close(fig)"
   ]
  },
  {
   "cell_type": "markdown",
   "metadata": {},
   "source": [
    "We choose to use `pycpt` -- Python tools to load and handle **cpt** (GMT format) color maps for use with matplotlib (_e.g._ from cpt-city)\n",
    "\n",
    "You can pick a colorbar from the following website:\n",
    "+ http://soliton.vm.bytemark.co.uk/pub/cpt-city/index.html"
   ]
  },
  {
   "cell_type": "code",
   "execution_count": null,
   "metadata": {
    "scrolled": false
   },
   "outputs": [],
   "source": [
    "topocmap = pycpt.load.cmap_from_cptcity_url('td/DEM_screen.cpt')\n",
    "plotElevation( elev, 0, 1300, topocmap)"
   ]
  },
  {
   "cell_type": "markdown",
   "metadata": {},
   "source": [
    "As you can see from the figure above, we will need to **clip** our array to remove the `nodata` values induced by the reprojection... We do that by just selecting the extent of the rows and columns number from our `elev` numpy array..."
   ]
  },
  {
   "cell_type": "code",
   "execution_count": null,
   "metadata": {},
   "outputs": [],
   "source": [
    "plotElevation( elev[80:-80,100:-100], 0, 1300, topocmap)"
   ]
  },
  {
   "cell_type": "markdown",
   "metadata": {},
   "source": [
    "This extent seems to work :-), let's see if we still have some masked values"
   ]
  },
  {
   "cell_type": "code",
   "execution_count": null,
   "metadata": {},
   "outputs": [],
   "source": [
    "np.ma.is_masked(elev[80:-80,100:-100])"
   ]
  },
  {
   "cell_type": "markdown",
   "metadata": {},
   "source": [
    "We then defined a new elevation array `dem` based on the clipped one:"
   ]
  },
  {
   "cell_type": "code",
   "execution_count": null,
   "metadata": {},
   "outputs": [],
   "source": [
    "dem = elev[80:-80,100:-100]"
   ]
  },
  {
   "cell_type": "markdown",
   "metadata": {},
   "source": [
    "# X & Y axes\n",
    "\n",
    "To keep your coordinates system for post-processing and to potentially reproject the outputs from the landscape evolution model in another geospatial system we needs to specify the X and Y axes.\n",
    "\n",
    "We do it like this:"
   ]
  },
  {
   "cell_type": "code",
   "execution_count": null,
   "metadata": {},
   "outputs": [],
   "source": [
    "xMin = dst.transform[2]\n",
    "xMax = dst.transform[2] + abs(dst.transform[0])*dst_width\n",
    "\n",
    "yMin = dst.transform[5] - abs(dst.transform[4])*dst_height\n",
    "yMax = dst.transform[5]\n",
    "\n",
    "print(\"Initial DEM:\\n\")\n",
    "\n",
    "print(\"Lower left coordinates       Xmin: {}, Ymin: {}\".format(xMin,yMin))\n",
    "print(\"Upper right coordinates      Xmax: {}, Ymax: {}\".format(xMax,yMax))"
   ]
  },
  {
   "cell_type": "markdown",
   "metadata": {},
   "source": [
    "We can now create the X and Y coordinates, at this point we can choose to decrease the resolution if needed by using the `step` parameter (integer)"
   ]
  },
  {
   "cell_type": "code",
   "execution_count": null,
   "metadata": {},
   "outputs": [],
   "source": [
    "step = 4\n",
    "spacing = utmRes*step\n",
    "print spacing\n",
    "nZ = dem[::step,::step]\n",
    "\n",
    "from scipy.ndimage.filters import gaussian_filter\n",
    "\n",
    "nZ = gaussian_filter(nZ, sigma=2)\n",
    "\n",
    "nx = nZ.shape[1]\n",
    "ny = nZ.shape[0]\n",
    "\n",
    "minX, maxX = xMin, xMin+spacing*nx\n",
    "minY, maxY = yMin, yMin+spacing*ny\n",
    "\n",
    "xcoords = np.arange(minX, maxX, spacing)\n",
    "ycoords = np.arange(minY, maxY, spacing)\n",
    "\n",
    "X, Y = np.meshgrid(xcoords, ycoords)\n",
    "\n",
    "coords = np.vstack([X.ravel(), Y.ravel()])\n",
    "coords = np.vstack([coords, nZ.ravel()]).T\n",
    "\n",
    "\n",
    "print(\"Clipped DEM:\\n\")\n",
    "\n",
    "print(\"Resolution (m)            res: {}\".format(spacing))\n",
    "print(\"Number of points         nbpt: {}\".format(coords.shape[0]))\n",
    "print(\"Elevation map shape        nx: {}, ny: {}\\n\".format(nx,ny))\n",
    "\n",
    "print(\"Lower left coordinates   Xmin: {}, Ymin: {}\".format(minX,minY))\n",
    "print(\"Upper right coordinates  Xmax: {}, Ymax: {}\".format(maxX,maxY))"
   ]
  },
  {
   "cell_type": "markdown",
   "metadata": {},
   "source": [
    "# Unstructured elevation grid"
   ]
  },
  {
   "cell_type": "code",
   "execution_count": null,
   "metadata": {},
   "outputs": [],
   "source": [
    "interpolateFct = RectBivariateSpline(xcoords,ycoords,nZ.T)"
   ]
  },
  {
   "cell_type": "markdown",
   "metadata": {},
   "source": [
    "## Using pyGmsh library\n",
    "\n",
    "Another method consists in using `pyGmsh` library, which is a Python interface to `Gmsh`: a powerful mesh generation tool:\n",
    "\n",
    "- https://github.com/nschloe/pygmsh\n",
    "\n",
    "The resolution of the mesh is defined based on the characteristic length parameter `lcar` here defined based on the `spacing` value (spacing = utmRes $\\times$ step).\n",
    "\n",
    "There are several different ways of defining the mesh, here we use an approach similar to what we've done previously with `stripy` and use the border coordinates to create our delaunay triangulation."
   ]
  },
  {
   "cell_type": "code",
   "execution_count": null,
   "metadata": {},
   "outputs": [],
   "source": [
    "spacing = utmRes*step\n",
    "\n",
    "# Initialise pyGmsh geometry\n",
    "geom = pg.built_in.Geometry()\n",
    "\n",
    "# Define the border of the mesh.\n",
    "poly = geom.add_polygon([\n",
    "    [minX, minY, 0.0],\n",
    "    [maxX, minY, 0.0],\n",
    "    [maxX, maxY, 0.0],\n",
    "    [minX, maxY, 0.0]\n",
    "    ],\n",
    "    lcar=spacing\n",
    "    )\n",
    "\n",
    "# Generate the mesh\n",
    "mesh = pg.generate_mesh(geom, verbose=True, dim=2) \n",
    "\n",
    "\n",
    "pts = mesh.points  \n",
    "cells = mesh.cells "
   ]
  },
  {
   "cell_type": "code",
   "execution_count": null,
   "metadata": {},
   "outputs": [],
   "source": [
    "print(\"Unstructured Grid:\\n\")\n",
    "\n",
    "print(\"Number of points         nbpt: {}\".format(pts.shape[0]))\n",
    "print(\"Number of faces       nbcells: {}\".format(cells['triangle'].shape[0]))"
   ]
  },
  {
   "cell_type": "markdown",
   "metadata": {},
   "source": [
    "Similar to the other examples, we perform the elevation interpolation on the triangulation coordinates:"
   ]
  },
  {
   "cell_type": "code",
   "execution_count": null,
   "metadata": {},
   "outputs": [],
   "source": [
    "# Interpolation of the elevation on the triangulation\n",
    "evalZG = interpolateFct.ev(pts[:,0], pts[:,1])\n",
    "\n",
    "# Creation of the X,Y,Z coordinates of the unstructured grid\n",
    "pts[:,2] = evalZG"
   ]
  },
  {
   "cell_type": "markdown",
   "metadata": {},
   "source": [
    "## Pit filling"
   ]
  },
  {
   "cell_type": "code",
   "execution_count": null,
   "metadata": {},
   "outputs": [],
   "source": [
    "Gmesh = meshplex.mesh_tri.MeshTri(pts, cells['triangle'])\n",
    "\n",
    "ids = np.arange(0, len(Gmesh.node_coords), dtype=int)\n",
    "Gmesh.mark_boundary()\n",
    "bndID = np.where(Gmesh._is_boundary_node == True)[0]\n",
    "\n",
    "Gmesh.create_edges()\n",
    "garea = np.abs(Gmesh.control_volumes)\n",
    "\n",
    "Gmesh_ngbNbs, Gmesh_ngbID = defineGTIN(len(Gmesh.node_coords), \n",
    "                                       Gmesh.cells['nodes'], \n",
    "                                       Gmesh.edges['nodes'])"
   ]
  },
  {
   "cell_type": "code",
   "execution_count": null,
   "metadata": {},
   "outputs": [],
   "source": [
    "eps = 1.e-4\n",
    "seaID = np.where(evalZG<-100)[0]\n",
    "\n",
    "meshID = np.ones(len(Gmesh.node_coords))\n",
    "eScapeGPit = pitfill.depressionFillingScape(coords=Gmesh.node_coords, ngbIDs=Gmesh_ngbID, \n",
    "                                            ngbNb=Gmesh_ngbNbs, seaIDs=seaID, meshIDs=meshID,\n",
    "                                            boundary=bndID, first=1, area=garea)"
   ]
  },
  {
   "cell_type": "code",
   "execution_count": null,
   "metadata": {},
   "outputs": [],
   "source": [
    "fill = eScapeGPit.performPitFillingEpsilon(evalZG, bndID, eps, type=0)\n",
    "fill[seaID] = evalZG[seaID]\n",
    "\n",
    "# Creation of the X,Y,Z coordinates of the unstructured grid\n",
    "vertsR = np.insert(pts[:,:2], 2, values=fill, axis=1)"
   ]
  },
  {
   "cell_type": "markdown",
   "metadata": {},
   "source": [
    "And use lavavu to visualise the new unstructured grid. As in the other cases, we need to give to the **lavavu** function the following things:\n",
    "+ points coordinates (`pts`) \n",
    "+ the IDs of the connected points forming each triangle faces (`cells['triangle']`)."
   ]
  },
  {
   "cell_type": "code",
   "execution_count": null,
   "metadata": {},
   "outputs": [],
   "source": [
    "lv = lavavu.Viewer(border=True, background=\"#FFFFFF\", resolution=[700,700], near=-10.0)\n",
    "\n",
    "# Core \n",
    "lvTriG = lv.triangles(\"DelGmsh\",  wireframe=True, colour=\"#161616\", opacity=1.0)\n",
    "lvTriG.vertices(vertsR)\n",
    "lvTriG.indices(cells['triangle'])\n",
    "lvTriG.values(fill)\n",
    "lvTriG.colourmap(\"geo\", range=[-1800.,1800.])\n",
    "\n",
    "lv.translation(823.959, 14666.457, -48052.191)\n",
    "lv.rotation(-28.235, 4.249, -0.51)\n",
    "lv.scale('z', 4)\n",
    "\n",
    "lv.control.Checkbox(property='axis')\n",
    "lvTriG.control.Checkbox(property='wireframe', label=\"wireframe\")\n",
    "lv.control.Panel()\n",
    "lv.control.ObjectList()\n",
    "lvTriG.control.Range(command='scale z', range=(1,20), step=1., value=4)\n",
    "lv.control.show()"
   ]
  },
  {
   "cell_type": "markdown",
   "metadata": {},
   "source": [
    "We can here as well save the unstructured mesh as a VTU file (VTK format) using meshio library"
   ]
  },
  {
   "cell_type": "code",
   "execution_count": null,
   "metadata": {},
   "outputs": [],
   "source": [
    "pts03 = vertsR\n",
    "pts03[:,2] = 0.\n",
    "mesh = meshio.Mesh(pts03, cells, {'Z':fill})\n",
    "meshio.write(\"data/blueMountains.vtk\", mesh)"
   ]
  },
  {
   "cell_type": "code",
   "execution_count": null,
   "metadata": {},
   "outputs": [],
   "source": []
  }
 ],
 "metadata": {
  "kernelspec": {
   "display_name": "Python 2",
   "language": "python",
   "name": "python2"
  },
  "language_info": {
   "codemirror_mode": {
    "name": "ipython",
    "version": 2
   },
   "file_extension": ".py",
   "mimetype": "text/x-python",
   "name": "python",
   "nbconvert_exporter": "python",
   "pygments_lexer": "ipython2",
   "version": "2.7.12"
  }
 },
 "nbformat": 4,
 "nbformat_minor": 2
}
