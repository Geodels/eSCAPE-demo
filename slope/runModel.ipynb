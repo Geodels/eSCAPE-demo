{
 "cells": [
  {
   "cell_type": "markdown",
   "metadata": {},
   "source": [
    "# Inclined plane example\n",
    "\n",
    "## 1. Building flat unstructured geometries"
   ]
  },
  {
   "cell_type": "code",
   "execution_count": null,
   "metadata": {},
   "outputs": [],
   "source": [
    "import pycpt\n",
    "import lavavu\n",
    "\n",
    "import meshio\n",
    "import stripy\n",
    "import numpy as np\n",
    "import pygmsh as pg\n",
    "\n",
    "from scipy.interpolate import RectBivariateSpline\n",
    "\n",
    "import matplotlib\n",
    "import matplotlib.pyplot as plt\n",
    "from matplotlib.path import Path\n",
    "from mpl_toolkits.axes_grid1 import make_axes_locatable\n",
    "\n",
    "label_size = 8\n",
    "matplotlib.rcParams['xtick.labelsize'] = label_size \n",
    "matplotlib.rcParams['ytick.labelsize'] = label_size\n",
    "\n",
    "%matplotlib inline\n",
    "%config InlineBackend.figure_format = 'svg' "
   ]
  },
  {
   "cell_type": "markdown",
   "metadata": {},
   "source": [
    "### Using pyGmsh library\n",
    "\n",
    "Using `pyGmsh` library, which is a Python interface to `Gmsh`: a powerful mesh generation tool:\n",
    "\n",
    "- https://github.com/nschloe/pygmsh\n",
    "\n",
    "The resolution of the mesh is defined based on the characteristic length parameter `lcar`.\n",
    "\n",
    "There are several different ways of defining the mesh, here we use an approach similar to what we've done previously with `stripy` and use the border coordinates to create our delaunay triangulation.\n",
    "\n",
    "#### Bounding box\n",
    "\n",
    "We first initialise a pyGmsh instance and define the characteristc length `lcar`:"
   ]
  },
  {
   "cell_type": "code",
   "execution_count": null,
   "metadata": {},
   "outputs": [],
   "source": [
    "minX, maxX = 0.0, 100000.0\n",
    "minY, maxY = 0.0, 100000.0\n",
    "\n",
    "lcar = 200\n",
    "geom1 = pg.built_in.Geometry()"
   ]
  },
  {
   "cell_type": "markdown",
   "metadata": {},
   "source": [
    "We then define the polygon based on the box extent:"
   ]
  },
  {
   "cell_type": "code",
   "execution_count": null,
   "metadata": {},
   "outputs": [],
   "source": [
    "poly = geom1.add_polygon([\n",
    "    [ minX,  minY, 0.0],\n",
    "    [ maxX,  minY, 0.0],\n",
    "    [ maxX,  maxY, 0.0],\n",
    "    [ minX,  maxY, 0.0]\n",
    "    ],\n",
    "    lcar\n",
    "    )"
   ]
  },
  {
   "cell_type": "code",
   "execution_count": null,
   "metadata": {},
   "outputs": [],
   "source": [
    "xcoords = np.arange(minX, maxX+lcar, lcar)\n",
    "ycoords = np.arange(minY, maxY+lcar, lcar)"
   ]
  },
  {
   "cell_type": "markdown",
   "metadata": {},
   "source": [
    "Setting uplift values"
   ]
  },
  {
   "cell_type": "code",
   "execution_count": null,
   "metadata": {},
   "outputs": [],
   "source": [
    "U0 = 5.e-3\n",
    "u = U0 * xcoords/maxX * 1.e5\n",
    "\n",
    "nb = xcoords.shape[0]\n",
    "nU = np.tile(u, nb).reshape((nb,nb))"
   ]
  },
  {
   "cell_type": "code",
   "execution_count": null,
   "metadata": {},
   "outputs": [],
   "source": [
    "interpolateFct = RectBivariateSpline(xcoords,ycoords,nU.T)"
   ]
  },
  {
   "cell_type": "markdown",
   "metadata": {},
   "source": [
    "We then generate the mesh..."
   ]
  },
  {
   "cell_type": "code",
   "execution_count": null,
   "metadata": {},
   "outputs": [],
   "source": [
    "mesh = pg.generate_mesh(geom1)\n",
    "\n",
    "points = mesh.points  \n",
    "cells = mesh.cells "
   ]
  },
  {
   "cell_type": "code",
   "execution_count": null,
   "metadata": {},
   "outputs": [],
   "source": [
    "print(\"Unstructured Grid Geometry Characteristics:\\n\")\n",
    "\n",
    "print(\"Number of points         nbpt: {}\".format(points.shape[0]))\n",
    "print(\"Number of faces       nbcells: {}\".format(cells['triangle'].shape[0]))"
   ]
  },
  {
   "cell_type": "markdown",
   "metadata": {},
   "source": [
    "Interpolation of uplift values on the unstructured grid"
   ]
  },
  {
   "cell_type": "code",
   "execution_count": null,
   "metadata": {},
   "outputs": [],
   "source": [
    "evalU = interpolateFct.ev(points[:,0], points[:,1])"
   ]
  },
  {
   "cell_type": "markdown",
   "metadata": {},
   "source": [
    "### Writing initial surface and uplift"
   ]
  },
  {
   "cell_type": "markdown",
   "metadata": {},
   "source": [
    "To create the initial grids not much needs to be done. Basically we will create an array XYZ in numpy that we will write to the disk."
   ]
  },
  {
   "cell_type": "code",
   "execution_count": null,
   "metadata": {},
   "outputs": [],
   "source": [
    "nZ = np.zeros(points.shape[0])"
   ]
  },
  {
   "cell_type": "markdown",
   "metadata": {},
   "source": [
    "We use `meshio` to create a VTK file that will then be passed to the landscape evolution model."
   ]
  },
  {
   "cell_type": "code",
   "execution_count": null,
   "metadata": {},
   "outputs": [],
   "source": [
    "# Creation of the X,Y,Z coordinates of the unstructured grid\n",
    "verts = np.insert(points[:,:2], 2, values=nZ, axis=1)"
   ]
  },
  {
   "cell_type": "code",
   "execution_count": null,
   "metadata": {},
   "outputs": [],
   "source": [
    "uu = evalU*1.e-5"
   ]
  },
  {
   "cell_type": "code",
   "execution_count": null,
   "metadata": {},
   "outputs": [],
   "source": [
    "mesh = meshio.Mesh(verts, cells, {'Z':nZ,'U':uu})\n",
    "meshio.write(\"braun.vtk\", mesh)"
   ]
  },
  {
   "cell_type": "markdown",
   "metadata": {},
   "source": [
    "## 2. Running the model \n",
    "\n",
    "All the input parameters are specified in the `input.yml` file.\n",
    "\n",
    "### Input file\n",
    "\n",
    "Input files for **eSCAPE** are based on [YAML](https://circleci.com/blog/what-is-yaml-a-beginner-s-guide/) syntax.\n",
    "\n",
    "```YAML\n",
    "name: Testing time steps inspired from B&W 13\n",
    "\n",
    "domain:\n",
    "    filename: ['braun.vtk','Z']\n",
    "    flowdir: 1\n",
    "    bc: flat\n",
    "\n",
    "time:\n",
    "    start: 0.\n",
    "    end: 1.e5\n",
    "    tout: 20000.\n",
    "    dt: 5000.\n",
    "\n",
    "sea:\n",
    "    position: -1000.\n",
    "\n",
    "climate:\n",
    "    - start: -1.e6\n",
    "      uniform: 1.0\n",
    "\n",
    "tectonic:\n",
    "   - start: -1.e6\n",
    "     mapZ: ['braun.vtk','U']\n",
    "\n",
    "sp_br:\n",
    "    Kbr: 5.e-4\n",
    "\n",
    "sp_dep:\n",
    "    Ff: 1.\n",
    "\n",
    "diffusion:\n",
    "    hillslopeK: 0.\n",
    "    sedimentK: 0.\n",
    "\n",
    "output:\n",
    "    dir: 'output'\n",
    "    makedir: False\n",
    "\n",
    "```\n",
    "\n",
    "#### Parameters \n",
    "\n",
    "+ `domain`: definition of the unstructured grid containing the vtk grid `filename` and the associated field (here called `Z`) as well as the flow direction method to be used `flowdir` that takes an integer value between 1 (for SFD) and 12 (for Dinf) and the boundary conditions (`bc`: 'flat', 'fixed' or 'slope')\n",
    "\n",
    "+ `time`: the simulation time parameters defined by `start`, `end`, `tout` (the output interval) and `dt` (the internal time-step).\n",
    "\n",
    "Follows the optional forcing conditions:\n",
    "\n",
    "+ `sea`: the sea-level declaration with the relative sea-level `position` (m) and the sea-level `curve` which is a file containing 2 columns (time and sea-level position).\n",
    "\n",
    "+ `climatic` & `tectonic` have the same structure with a sequence of events defined by a starting time (`start`) and either a constant value (`uniform`) or a `map`.\n",
    "\n",
    "Then the parameters for the surface processes to simulate:\n",
    "\n",
    "+ `sp_br`: for the _stream power law_ with a unique parameter `Kbr` representing the The erodibility coefficient which is scale-dependent and its value depend on lithology and mean precipitation rate, channel width, flood frequency, channel hydraulics. It is worth noting that the coefficient _m_ and _n_ are fixed in this version and take the value 0.5 & 1 respectively. In this example we consider that all eroded sediments  are transported as fine suspension `Ff`=1 and as such will never be redeposited.\n",
    "\n",
    "+ `diffusion`: hillslope, stream and marine diffusion coefficients. `hillslopeK` sets the _simple creep_ transport law which states that transport rate depends linearly on topographic gradient. The marine sediment are transported based on a diffusion coefficient `sedimentK`. \n",
    "\n",
    "Finally, you will need to specify the output folder:\n",
    "\n",
    "+ `output`: with `dir` the directory name and the option `makedir` that gives the possible to delete any existing output folder with the same name (if set to False) or to create a new folder with the give `dir` name plus a number at the end (e.g. outputDir_1 if set to True)\n",
    "\n",
    "### Using Jupyter notebook environment\n",
    "\n",
    "For small models it is possible to use the notebook environment directly and run the following set of commands:\n",
    "\n",
    "```python\n",
    "import eSCAPE\n",
    "\n",
    "# Reading input file\n",
    "model = eSCAPE.LandscapeEvolutionModel(input_globe.yml)\n",
    "\n",
    "# Running model\n",
    "model.runProcesses()\n",
    "\n",
    "# Running model\n",
    "model.destroy()\n",
    "```\n",
    "\n",
    "### Using Python file\n",
    "\n",
    "Here we will use a Python script called `run_escape.py` located in the same folder as your input file. \n",
    "\n",
    "```python\n",
    "import argparse\n",
    "import eSCAPE as sim\n",
    "\n",
    "# Parsing command line arguments\n",
    "parser = argparse.ArgumentParser(description='This is a simple entry to run eSCAPE model.',add_help=True)\n",
    "parser.add_argument('-i','--input', help='Input file name (YAML file)',required=True)\n",
    "parser.add_argument('-v','--verbose',help='True/false option for verbose', required=False,action=\"store_true\",default=False)\n",
    "parser.add_argument('-l','--log',help='True/false option for PETSC log', required=False,action=\"store_true\",default=False)\n",
    "\n",
    "args = parser.parse_args()\n",
    "if args.verbose:\n",
    "  print(\"Input file: {}\".format(args.input))\n",
    "  print(\" Verbose is on? {}\".format(args.verbose))\n",
    "  print(\" PETSC log is on? {}\".format(args.log))\n",
    "\n",
    "# Reading input file\n",
    "model = sim.LandscapeEvolutionModel(args.input,args.verbose,args.log)\n",
    "\n",
    "# Running model\n",
    "model.runProcesses()\n",
    "\n",
    "# Cleaning model\n",
    "model.destroy()\n",
    "```\n",
    "\n",
    "This script is basically equivalent to what you will have done in the Jupyter environment but can also be ran on multiple processors using the `mpirun` command as shown below:"
   ]
  },
  {
   "cell_type": "code",
   "execution_count": null,
   "metadata": {},
   "outputs": [],
   "source": [
    "!mpirun -np 4 python run_escape.py -i input.yml"
   ]
  },
  {
   "cell_type": "code",
   "execution_count": null,
   "metadata": {},
   "outputs": [],
   "source": []
  }
 ],
 "metadata": {
  "kernelspec": {
   "display_name": "Python 2",
   "language": "python",
   "name": "python2"
  },
  "language_info": {
   "codemirror_mode": {
    "name": "ipython",
    "version": 2
   },
   "file_extension": ".py",
   "mimetype": "text/x-python",
   "name": "python",
   "nbconvert_exporter": "python",
   "pygments_lexer": "ipython2",
   "version": "2.7.12"
  }
 },
 "nbformat": 4,
 "nbformat_minor": 2
}
