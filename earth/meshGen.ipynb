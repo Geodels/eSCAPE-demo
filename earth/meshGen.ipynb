{
 "cells": [
  {
   "cell_type": "markdown",
   "metadata": {},
   "source": [
    "# Global data on the sphere\n",
    "\n",
    "<div class=\"alert alert-block alert-info\"> ETOPO1 is a 1 arc-minute global relief model of Earth's surface that integrates land topography and ocean bathymetry. Built from global and regional data sets, it is available in \"Ice Surface\" (top of Antarctic and Greenland ice sheets) and \"Bedrock\" (base of the ice sheets). \n",
    "\n",
    "In this example, we read the global topography database ETOPO1 that can be downloaded from NOAA website: \n",
    "**https://www.ngdc.noaa.gov/mgg/global/global.html**</div>\n",
    "\n",
    "***\n",
    "\n",
    "<img src=\"images/sphere.png\" width=\"50%\">\n",
    "\n",
    "***\n",
    "\n",
    "## Notebook contents\n",
    "\n",
    "   - [ETOPO1 GeoTIFF](#ETOPO1-GeoTIFF)\n",
    "   - [Triangulation on the sphere](#Triangulation-on-the-sphere)\n",
    "   - [Mapping dataset on the sphere](#Mapping-dataset-on-the-sphere)\n",
    "   - [Visualisation](#Visualisation)"
   ]
  },
  {
   "cell_type": "code",
   "execution_count": null,
   "metadata": {},
   "outputs": [],
   "source": [
    "import gdal\n",
    "import meshio\n",
    "import numpy as np\n",
    "import os.path as path\n",
    "import stripy as stripy\n",
    "from scipy import ndimage"
   ]
  },
  {
   "cell_type": "markdown",
   "metadata": {},
   "source": [
    "# ETOPO1 GeoTIFF\n",
    "\n",
    "\n",
    "<div class=\"alert alert-block alert-danger\"> To run this Notebook you will first need to download the ETOPO1 dataset following the link provided above...</div>\n",
    "\n",
    "GeoTIFF is the most versatile raster format for geo-referenced imagery and is the default for all `gdal` utilities.\n",
    "\n",
    "We load the *downloaded GeoTiff*..."
   ]
  },
  {
   "cell_type": "code",
   "execution_count": null,
   "metadata": {},
   "outputs": [],
   "source": [
    "gtiff = gdal.Open(\"data/ETOPO1.tif\")\n",
    "\n",
    "width = gtiff.RasterXSize\n",
    "height = gtiff.RasterYSize\n",
    "gt = gtiff.GetGeoTransform()\n",
    "img = gtiff.GetRasterBand(1).ReadAsArray().T\n",
    "img = np.fliplr(img)"
   ]
  },
  {
   "cell_type": "markdown",
   "metadata": {},
   "source": [
    "# Triangulation on the sphere\n",
    "\n",
    "We use [**`stripy`**](https://github.com/University-of-Melbourne-Geodynamics/stripy), that provides a python interfact to **STRIPACK** and **SSRFPACK** (Renka 1997a,b) as a triangulation/spherical class.\n",
    "\n",
    "Here we use a specific class from the library: `spherical_meshes.icosahedral_mesh` to build our mesh based on the recursive refinement of an initial icosahedron. The higher the refinement the higher the resolution will be...\n",
    "\n",
    "#### References\n",
    " \n",
    "   1. Renka, R. J. (1997), Algorithm 772: STRIPACK: Delaunay triangulation and Voronoi diagram on the surface of a sphere, ACM Transactions on Mathematical Software (TOMS).\n",
    "   \n",
    "   2. Renka, R. J. (1997), Algorithm 773: SSRFPACK: interpolation of scattered data on the surface of a sphere with a surface under tension, ACM Transactions on Mathematical Software (TOMS), 23(3), 435–442, doi:10.1145/275323.275330."
   ]
  },
  {
   "cell_type": "code",
   "execution_count": null,
   "metadata": {},
   "outputs": [],
   "source": [
    "grid = stripy.spherical_meshes.icosahedral_mesh(include_face_points=False, refinement_levels=8)\n",
    "\n",
    "str_fmt = \"{:25} {:9}\"\n",
    "print(str_fmt.format('Number of points', grid.npoints))\n",
    "print(str_fmt.format('Number of cells', grid.simplices.shape[0]))"
   ]
  },
  {
   "cell_type": "markdown",
   "metadata": {},
   "source": [
    "# Mapping dataset on the sphere\n",
    "\n",
    "Now we map the ETOPO1 elevation to the spherical mesh by interpolation using **scipy** [**`map_coordinates`**](https://docs.scipy.org/doc/scipy-0.14.0/reference/generated/scipy.ndimage.interpolation.map_coordinates.html.)\n",
    "\n",
    "Our spherical mesh is defined on the unit sphere and the longitudes and latitudes range from [$-\\pi,\\pi$] and [-$\\pi/2,\\pi/2$] respectively. \n",
    "\n",
    "We first convert the points in degrees and map their position with respect to ETOPO1 dataset shape."
   ]
  },
  {
   "cell_type": "code",
   "execution_count": null,
   "metadata": {},
   "outputs": [],
   "source": [
    "# Convert spherical mesh longitudes and latitudes to degrees\n",
    "dlons = np.mod(np.degrees(grid.lons)+180.0, 360.0)\n",
    "dlats = np.mod(np.degrees(grid.lats)+90, 180.0)\n",
    "\n",
    "# Map mesh coordinates on ETOPO1 dataset\n",
    "ilons = img.shape[0] * dlons / 360.0\n",
    "ilats = img.shape[1] * dlats / 180.0\n",
    "\n",
    "icoords = np.stack((ilons, ilats))"
   ]
  },
  {
   "cell_type": "markdown",
   "metadata": {},
   "source": [
    "We then performe the interpolation..."
   ]
  },
  {
   "cell_type": "code",
   "execution_count": null,
   "metadata": {},
   "outputs": [],
   "source": [
    "elevations = ndimage.map_coordinates(img, icoords , order=3, mode='nearest').astype(np.float)"
   ]
  },
  {
   "cell_type": "markdown",
   "metadata": {},
   "source": [
    "Finally we set the spherical mesh coordinates in meters assuming a _spherical Earth_ with a radius of $\\sim$6378 km and adding the previously interpolated ETOPO1 elevation along the Z axis..."
   ]
  },
  {
   "cell_type": "code",
   "execution_count": null,
   "metadata": {},
   "outputs": [],
   "source": [
    "x = grid.points[:,0]*6378137.\n",
    "y = grid.points[:,1]*6378137. \n",
    "h = grid.points[:,2]*6378137.+ elevations \n",
    "\n",
    "coords = np.vstack((x,y))\n",
    "coords = np.vstack((coords,h)).T"
   ]
  },
  {
   "cell_type": "markdown",
   "metadata": {},
   "source": [
    "# Visualisation\n",
    "\n",
    "## Paraview\n",
    "\n",
    "With [`meshio`](https://github.com/nschloe/meshio), we can write the dataset and visualise it in [**Paraview**](https://www.paraview.org).\n",
    "\n",
    "You can then use a `Calculator` to increase the vertical exaggeration as shown in the figure below:\n",
    "\n",
    "<img src=\"images/calculator.png\" width=\"50%\">\n",
    "\n",
    "$$(iHat * coordsX + jHat * coordsY + kHat * coordsZ) * ((1 + (Z/EarthRadius) * Zex))$$\n",
    "\n",
    "***\n",
    "\n",
    "Here we chose to export the mesh as a `VTK` file called _globe.vtk_ and this is done like this: "
   ]
  },
  {
   "cell_type": "code",
   "execution_count": null,
   "metadata": {},
   "outputs": [],
   "source": [
    "mesh = meshio.Mesh(coords, {'triangle': grid.simplices}, {'Z':elevations})\n",
    "meshio.write(\"data/globe.vtk\", mesh)"
   ]
  },
  {
   "cell_type": "markdown",
   "metadata": {},
   "source": [
    "## LavaVu\n",
    "\n",
    "Another option is to use [**LavaVu**](https://github.com/OKaluza/LavaVu) a scientific visualisation tool with a python interface for fast and flexible visual analysis.\n",
    "\n",
    "***\n",
    "\n",
    "<div class=\"alert alert-block alert-danger\"> Be aware that depending of the size of your dataset, this might take a while to render...</div>"
   ]
  },
  {
   "cell_type": "code",
   "execution_count": null,
   "metadata": {},
   "outputs": [],
   "source": [
    "import lavavu\n",
    "\n",
    "lv = lavavu.Viewer(border=False, background=\"#FFFFFF\", resolution=[500,500], near=-10.0)\n",
    "\n",
    "# Core \n",
    "tris2 = lv.triangles(\"triangles\",  wireframe=False, colour=\"#77ff88\", opacity=1.0)\n",
    "tris2.vertices(grid.points * (1.0+0.000003*elevations.reshape(-1,1)))\n",
    "tris2.indices(grid.simplices)\n",
    "tris2.values(elevations*0.001)\n",
    "tris2.colourmap(\"(-5.0)#3333FF:0.85 (-0.001)#004477 (0.0)#448822 (0.1)#BB9911 (1.0)#B05030 (5.0)White\" , logscale=False, range=[-7.0,5.0])   # Apply a built in colourmap\n",
    "\n",
    "lv.translation(0.0, 0.0, -3.329)\n",
    "lv.rotation(122.06, 41.123, -157.397)\n",
    "\n",
    "# Let this be an interactive window in the notebook\n",
    "lv.window()\n",
    "tris2.control.Checkbox(property='wireframe', label=\"Surface - wireframe\")\n",
    "\n",
    "lv.control.Range('specular', range=(0,1), step=0.1, value=0)\n",
    "lv.control.Checkbox(property='axis')\n",
    "lv.control.ObjectList()\n",
    "lv.control.show()"
   ]
  },
  {
   "cell_type": "code",
   "execution_count": null,
   "metadata": {},
   "outputs": [],
   "source": []
  },
  {
   "cell_type": "code",
   "execution_count": null,
   "metadata": {},
   "outputs": [],
   "source": []
  }
 ],
 "metadata": {
  "kernelspec": {
   "display_name": "Python 2",
   "language": "python",
   "name": "python2"
  },
  "language_info": {
   "codemirror_mode": {
    "name": "ipython",
    "version": 2
   },
   "file_extension": ".py",
   "mimetype": "text/x-python",
   "name": "python",
   "nbconvert_exporter": "python",
   "pygments_lexer": "ipython2",
   "version": "2.7.12"
  }
 },
 "nbformat": 4,
 "nbformat_minor": 2
}
