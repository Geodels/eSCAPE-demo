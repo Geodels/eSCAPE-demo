{
 "cells": [
  {
   "cell_type": "code",
   "execution_count": 1,
   "metadata": {},
   "outputs": [],
   "source": [
    "#!cd /live/share/paraLem/fortran;   f2py --overwrite-signature -m _fortran -h functions.pyf functions.f90"
   ]
  },
  {
   "cell_type": "code",
   "execution_count": 7,
   "metadata": {
    "scrolled": false
   },
   "outputs": [
    {
     "name": "stdout",
     "output_type": "stream",
     "text": [
      "\u001b[39mrunning install\u001b[0m\n",
      "\u001b[39mrunning build\u001b[0m\n",
      "\u001b[39mrunning config_cc\u001b[0m\n",
      "\u001b[39munifing config_cc, config, build_clib, build_ext, build commands --compiler options\u001b[0m\n",
      "\u001b[39mrunning config_fc\u001b[0m\n",
      "\u001b[39munifing config_fc, config, build_clib, build_ext, build commands --fcompiler options\u001b[0m\n",
      "\u001b[39mrunning build_src\u001b[0m\n",
      "\u001b[39mbuild_src\u001b[0m\n",
      "\u001b[39mbuilding extension \"paraLem._petscwrap\" sources\u001b[0m\n",
      "\u001b[39mf2py options: []\u001b[0m\n",
      "\u001b[39m  adding 'build/src.linux-x86_64-2.7/build/src.linux-x86_64-2.7/fortran/fortranobject.c' to sources.\u001b[0m\n",
      "\u001b[39m  adding 'build/src.linux-x86_64-2.7/build/src.linux-x86_64-2.7/fortran' to include_dirs.\u001b[0m\n",
      "Reading .f2py_f2cmap ...\n",
      "\tMapping \"integer(kind=HANDLE_KIND)\" to \"long\"\n",
      "\tMapping \"integer(kind=handle_kind)\" to \"long\"\n",
      "Successfully applied user defined changes from .f2py_f2cmap\n",
      "\u001b[39mbuilding extension \"paraLem._fortran\" sources\u001b[0m\n",
      "\u001b[39mf2py options: []\u001b[0m\n",
      "\u001b[39m  adding 'build/src.linux-x86_64-2.7/build/src.linux-x86_64-2.7/fortran/fortranobject.c' to sources.\u001b[0m\n",
      "\u001b[39m  adding 'build/src.linux-x86_64-2.7/build/src.linux-x86_64-2.7/fortran' to include_dirs.\u001b[0m\n",
      "\u001b[39mbuild_src: building npy-pkg config files\u001b[0m\n",
      "\u001b[39mrunning build_py\u001b[0m\n",
      "\u001b[39mrunning build_ext\u001b[0m\n",
      "\u001b[39mcustomize UnixCCompiler\u001b[0m\n",
      "\u001b[39mcustomize UnixCCompiler using build_ext\u001b[0m\n",
      "\u001b[39mget_default_fcompiler: matching types: '['gnu95', 'intel', 'lahey', 'pg', 'absoft', 'nag', 'vast', 'compaq', 'intele', 'intelem', 'gnu', 'g95', 'pathf95', 'nagfor']'\u001b[0m\n",
      "\u001b[39mcustomize Gnu95FCompiler\u001b[0m\n",
      "\u001b[39mFound executable /usr/bin/gfortran\u001b[0m\n",
      "\u001b[39mcustomize Gnu95FCompiler\u001b[0m\n",
      "\u001b[39mcustomize Gnu95FCompiler using build_ext\u001b[0m\n",
      "\u001b[39mrunning install_lib\u001b[0m\n",
      "\u001b[39mrunning install_egg_info\u001b[0m\n",
      "\u001b[39mRemoving /usr/local/lib/python2.7/dist-packages/paraLem-0.1.egg-info\u001b[0m\n",
      "\u001b[39mWriting /usr/local/lib/python2.7/dist-packages/paraLem-0.1.egg-info\u001b[0m\n",
      "\u001b[39mrunning install_clib\u001b[0m\n",
      "\u001b[39mcustomize UnixCCompiler\u001b[0m\n"
     ]
    }
   ],
   "source": [
    "!cd /live/share/paraLem/; python setup.py install"
   ]
  },
  {
   "cell_type": "markdown",
   "metadata": {},
   "source": [
    "You will need to run the `meshGen` notebook to produce the topographic file required to run the model!\n",
    "\n",
    "All the input parameters are specify in the `input_globe.yml` file."
   ]
  },
  {
   "cell_type": "code",
   "execution_count": 8,
   "metadata": {
    "scrolled": false
   },
   "outputs": [
    {
     "name": "stdout",
     "output_type": "stream",
     "text": [
      "The following model will be run:     global model\n",
      "Reading mesh information (6.61 seconds)\n",
      "bbbb000\n",
      "bbbb000bbbb000\n",
      "bbbb000\n",
      "\n",
      "bbbb\n",
      "bbbb1\n",
      "bbbb\n",
      "bbbb1\n",
      "bbbb\n",
      "bbbb1\n",
      "Create DMPlex (71.80 seconds)\n",
      "bbbb\n",
      "bbbb1\n",
      "bbbb11bbbb11\n",
      "bbbb11\n",
      "\n",
      "bbbb11\n",
      "\n",
      "===================================================================================\n",
      "=   BAD TERMINATION OF ONE OF YOUR APPLICATION PROCESSES\n",
      "=   PID 278 RUNNING AT 8fd08f31364c\n",
      "=   EXIT CODE: 9\n",
      "=   CLEANING UP REMAINING PROCESSES\n",
      "=   YOU CAN IGNORE THE BELOW CLEANUP MESSAGES\n",
      "===================================================================================\n",
      "YOUR APPLICATION TERMINATED WITH THE EXIT STRING: Killed (signal 9)\n",
      "This typically refers to a problem with your application.\n",
      "Please see the FAQ page for debugging suggestions\n"
     ]
    }
   ],
   "source": [
    "!mpirun -np 4 python running.py"
   ]
  },
  {
   "cell_type": "code",
   "execution_count": null,
   "metadata": {},
   "outputs": [],
   "source": []
  }
 ],
 "metadata": {
  "kernelspec": {
   "display_name": "Python 2",
   "language": "python",
   "name": "python2"
  },
  "language_info": {
   "codemirror_mode": {
    "name": "ipython",
    "version": 2
   },
   "file_extension": ".py",
   "mimetype": "text/x-python",
   "name": "python",
   "nbconvert_exporter": "python",
   "pygments_lexer": "ipython2",
   "version": "2.7.12"
  }
 },
 "nbformat": 4,
 "nbformat_minor": 2
}
