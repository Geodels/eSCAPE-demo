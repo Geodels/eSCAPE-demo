{
 "cells": [
  {
   "cell_type": "markdown",
   "metadata": {},
   "source": [
    "# Testing eSCAPE installation\n",
    "\n",
    "<div class=\"alert alert-block alert-info\">\n",
    "This example is for testing purpose and should be used to check that your installation is producing expected results.\n",
    "</div>\n",
    "\n",
    "Once all the [installation process](https://escape-model.github.io/2018/09/installation/) has been successfull, you could use this notebook to test and compare your output and runtime with expected ones.\n",
    "\n",
    "\n",
    "## Content\n",
    "   - [Expected output and runtime values](#Expected-output-and-runtime-values)\n",
    "   - [Jupyter environment](#Jupyter-environment)\n",
    "   - [MPI environment](#MPI-environment)\n",
    "   - [Paraview visualisation](#Paraview-visualisation)\n"
   ]
  },
  {
   "cell_type": "markdown",
   "metadata": {},
   "source": [
    "# Expected output and runtime values\n",
    "\n",
    "The test is first done within the _Jupyter_ environment. \n",
    "\n",
    "It consists in a surface made of about 15000 points (`data/elev.vtu`). A constant sealevel at 500 m elevation is defined as well as a uniform precipitation (1 m/yr). The input file (`input_test.yml`) has the following parameters:\n",
    "\n",
    "```yml\n",
    "\n",
    "name: simple model for testing installation\n",
    "\n",
    "domain:\n",
    "    filename: ['data/elev.vtu','Z']\n",
    "    flowdir: 4\n",
    "\n",
    "time:\n",
    "    start: 0.\n",
    "    end: 100.\n",
    "    tout: 100.\n",
    "    dt: 100.\n",
    "\n",
    "sea:\n",
    "    position: 500.\n",
    "\n",
    "climate:\n",
    "    - start: 0.\n",
    "      uniform: 1.0\n",
    "\n",
    "spl:\n",
    "    Ke: 1.e-5\n",
    "\n",
    "diffusion:\n",
    "    hillslopeK: 5.e-2\n",
    "    streamK: 500.\n",
    "    oceanK: 200.\n",
    "    maxIT: 50\n",
    "\n",
    "output:\n",
    "    dir: 'testinstall'\n",
    "    makedir: False\n",
    "    \n",
    "```\n",
    "\n",
    "Definition of these parameters is provided in the [input file](https://escape-model.github.io/2018/09/input-files/) page.\n",
    "\n",
    "The model is only ran for one time step (100 years) and the following values at the end of the run are evaluated:\n",
    "+ `EDmax`: maximum deposition thickness in metres\n",
    "+ `EDmin`: minimum deposition thickness in metres\n",
    "+ `hmax`: maximum elevation in metres\n",
    "+ `hmin`: minimum elevation in metres\n",
    "\n",
    "The values could potentially be _slightly different between different compilers_ but will be quite close if your installation is successfull.\n",
    "\n",
    "### Model output values for comparison"
   ]
  },
  {
   "cell_type": "code",
   "execution_count": null,
   "metadata": {},
   "outputs": [],
   "source": [
    "EDmaxInstall = 8.4144388862\n",
    "EDminInstall = -1.08636116119\n",
    "hmaxInstall = 1264.82966136\n",
    "hminInstall = 19.2141465268"
   ]
  },
  {
   "cell_type": "markdown",
   "metadata": {},
   "source": [
    "### Runtime values for comparison\n",
    "\n",
    "One additional test consists in estimating the simulation runtime. Here again values will be different depending on the installed libraries and the computer/HPC specs.\n",
    "\n",
    "Nevertheless the following runtimes give an idea of the expected duration for serial and parallel runs:\n",
    "\n",
    "+ **serial runtime**: around 8 seconds\n",
    "+ **parallel runtime**: around 2.5 seconds with 4 CPUs"
   ]
  },
  {
   "cell_type": "markdown",
   "metadata": {},
   "source": [
    "# Jupyter environment\n",
    "\n",
    "We first test the serial version of **eSCAPE**. This is done by importing **eSCAPE** and defining the super class `LandscapeEvolutionModel`.\n",
    "\n",
    "This class is the main entry point to **eSCAPE** model and takes 3 parameters as shown in the docstring...\n",
    "\n",
    "```python\n",
    "Instantiates eSCAPE model object and performs surface processes evolution.\n",
    "\n",
    "This object contains methods for the following operations:\n",
    " - initialisation of eSCAPE mesh based on input file options.\n",
    " - computation of surface processes\n",
    " - cleaning/destruction of PETSC objects\n",
    "\n",
    "Args\n",
    "    filename : YAML input file\n",
    "    verbose : True/False\n",
    "        Output option for model main functions\n",
    "    showlog : True/False\n",
    "        Output option for PETSC logging file\n",
    "\n",
    "Returns:\n",
    "    LandscapeEvolutionModel : object\n",
    "```\n",
    "\n",
    "<div class=\"alert alert-block alert-info\">\n",
    "Here we will set the verbose parameter to True</div>"
   ]
  },
  {
   "cell_type": "code",
   "execution_count": null,
   "metadata": {},
   "outputs": [],
   "source": [
    "import eSCAPE as sim\n",
    "model = sim.LandscapeEvolutionModel('input_test.yml',True,False)"
   ]
  },
  {
   "cell_type": "markdown",
   "metadata": {},
   "source": [
    "This first cell should output the time of each major calls, and should be similar to what follows:\n",
    "    \n",
    "```docstring\n",
    "The following model will be run:     simple model for testing installation\n",
    "Reading mesh information (0.00 seconds)\n",
    "Create DMPlex (0.04 seconds)\n",
    "Distribute DMPlex (0.01 seconds)\n",
    "Distribute field to DMPlex (0.00 seconds)\n",
    "Defining Petsc DMPlex (0.11 seconds)\n",
    "Voronoi creation (0.04 seconds)\n",
    "Tesselation (0.02 seconds)\n",
    "Finite volume mesh declaration (0.17 seconds)\n",
    "Priority-flood algorithm initialisation (0.01 seconds)\n",
    "Update External Forces (0.00 seconds)\n",
    "--- Initialisation Phase (1.84 seconds)\n",
    "```\n",
    "\n",
    "We then run the surface processes using the following function `runProcesses`\n",
    "\n",
    "```python\n",
    "Run eSCAPE Earth surface processes.\n",
    "\n",
    "This function contains methods for the following operations:\n",
    " - calculating flow accumulation\n",
    " - erosion/deposition induced by stream power law\n",
    " - depression identification and pit filling\n",
    " - stream induced deposition diffusion\n",
    " - hillslope diffusion\n",
    "```"
   ]
  },
  {
   "cell_type": "code",
   "execution_count": null,
   "metadata": {},
   "outputs": [],
   "source": [
    "model.runProcesses()"
   ]
  },
  {
   "cell_type": "markdown",
   "metadata": {},
   "source": [
    "The cell outputs should have similar runtimes for each function as the ones provided below:\n",
    "\n",
    "```docstring\n",
    "Flow Direction declaration (0.00 seconds)\n",
    "Compute Flow Accumulation (0.74 seconds)\n",
    "Creating outputfile (0.03 seconds)\n",
    "+++ Output Simulation Time: 0.00 years\n",
    "Compute Stream Power Law (1.51 seconds)\n",
    "Pit filling algorithm (0.01 seconds)\n",
    "Pit parameters definition (0.00 seconds)\n",
    "Fill Pit Depression (0.00 seconds)\n",
    "Compute Sediment Diffusion (0.32 seconds)\n",
    "Compute Hillslope Processes (0.01 seconds)\n",
    "Update External Forces (0.00 seconds)\n",
    "--- Computational Step (2.63 seconds)\n",
    "Flow Direction declaration (0.00 seconds)\n",
    "Compute Flow Accumulation (0.74 seconds)\n",
    "Compute Stream Power Law (1.47 seconds)\n",
    "Pit filling algorithm (0.01 seconds)\n",
    "Pit parameters definition (0.00 seconds)\n",
    "Fill Pit Depression (0.00 seconds)\n",
    "Compute Sediment Diffusion (0.30 seconds)\n",
    "Compute Hillslope Processes (0.01 seconds)\n",
    "Update External Forces (0.00 seconds)\n",
    "Creating outputfile (0.02 seconds)\n",
    "+++ Output Simulation Time: 100.00 years\n",
    "--- Computational Step (2.55 seconds)\n",
    "```\n",
    "\n",
    "We will now extract the output variables that will be compared with the expected ones provided at the top of this notebook:"
   ]
  },
  {
   "cell_type": "code",
   "execution_count": null,
   "metadata": {},
   "outputs": [],
   "source": [
    "EDmax = model.cumED.max()[1]\n",
    "EDmin = model.cumED.min()[1]\n",
    "hmax = model.hGlobal.max()[1]\n",
    "hmin = model.hGlobal.min()[1]"
   ]
  },
  {
   "cell_type": "markdown",
   "metadata": {},
   "source": [
    "The cell below will plot the comparisons between expected and computed values for\n",
    "+ `EDmax`: maximum deposition thickness in metres\n",
    "+ `EDmin`: minimum deposition thickness in metres\n",
    "+ `hmax`: maximum elevation in metres\n",
    "+ `hmin`: minimum elevation in metres"
   ]
  },
  {
   "cell_type": "code",
   "execution_count": null,
   "metadata": {},
   "outputs": [],
   "source": [
    "print('-------------------------------------------------------------')\n",
    "print('                 Testing eSCAPE installation                 ')\n",
    "print('-------------------------------------------------------------')\n",
    "print\n",
    "str_fmt = \"{:35} {:9}\"\n",
    "print(str_fmt.format('Maximum deposition thickness (m):', EDmax))\n",
    "print(str_fmt.format('Minimum deposition thickness (m):', EDmin))\n",
    "print\n",
    "print(str_fmt.format('Maximum elevation (m):', hmax))\n",
    "print(str_fmt.format('Minimum elevation (m):', hmin))\n",
    "print\n",
    "print('-------------------------------------------------------------')\n",
    "print('           Comparison with expected installation             ')\n",
    "print('-------------------------------------------------------------')\n",
    "print\n",
    "str_fmt = \"{:35} {:5.2f}\"\n",
    "print(str_fmt.format('Difference in max deposition thickness (m):', abs(EDmax-EDmaxInstall)))\n",
    "print(str_fmt.format('Difference in min deposition thickness (m):', abs(EDmin-EDminInstall)))\n",
    "print\n",
    "print(str_fmt.format('Difference in maximum elevation (m):', abs(hmax-hmaxInstall)))\n",
    "print(str_fmt.format('Difference in minimum elevation (m):', abs(hmin-hminInstall)))\n",
    "print\n",
    "print\n",
    "print('-------------------------------------------------------------')\n",
    "print('                      ending eSCAPE test                     ')\n",
    "print('-------------------------------------------------------------')"
   ]
  },
  {
   "cell_type": "markdown",
   "metadata": {},
   "source": [
    "We expect the results of the comparisons to be close to 0.0! \n",
    "\n",
    "We now run the last **eSCAPE** function `destroy()`:\n",
    "```python\n",
    "Destroy PETSc DMPlex objects and associated Petsc local/global Vectors and Matrices.\n",
    "Safely quit eSCAPE model.\n",
    "```"
   ]
  },
  {
   "cell_type": "code",
   "execution_count": null,
   "metadata": {},
   "outputs": [],
   "source": [
    "model.destroy()"
   ]
  },
  {
   "cell_type": "markdown",
   "metadata": {},
   "source": [
    "The total run time should be close to 8 seconds...\n",
    "\n",
    "# MPI environment\n",
    "\n",
    "We perform a similar test for the MPI installation this time using the provided `run_escape.py` python file:\n",
    "\n",
    "```python\n",
    "import argparse\n",
    "import eSCAPE as sim\n",
    "from petsc4py import PETSc\n",
    "MPIrank = PETSc.COMM_WORLD.Get_rank()\n",
    "\n",
    "# Parsing command line arguments\n",
    "parser = argparse.ArgumentParser(description='This is a simple entry to run eSCAPE model.',add_help=True)\n",
    "parser.add_argument('-i','--input', help='Input file name (YAML file)',required=True)\n",
    "parser.add_argument('-v','--verbose',help='True/false option for verbose', required=False,action=\"store_true\",default=False)\n",
    "parser.add_argument('-l','--log',help='True/false option for PETSC log', required=False,action=\"store_true\",default=False)\n",
    "\n",
    "args = parser.parse_args()\n",
    "if args.verbose:\n",
    "  print(\"Input file: {}\".format(args.input))\n",
    "  print(\" Verbose is on? {}\".format(args.verbose))\n",
    "  print(\" PETSC log is on? {}\".format(args.log))\n",
    "\n",
    "# Reading input file\n",
    "model = sim.LandscapeEvolutionModel(args.input,args.verbose,args.log)\n",
    "\n",
    "# Running model\n",
    "model.runProcesses()\n",
    "\n",
    "# Test values\n",
    "EDmax = model.cumED.max()[1]\n",
    "EDmin = model.cumED.min()[1]\n",
    "hmax = model.hGlobal.max()[1]\n",
    "hmin = model.hGlobal.min()[1]\n",
    "\n",
    "if MPIrank == 0:\n",
    "    EDmaxInstall = 8.4144388862\n",
    "    EDminInstall = -1.08636116119\n",
    "    hmaxInstall = 1264.82966136\n",
    "    hminInstall = 19.2141465268\n",
    "    print\n",
    "    print('-------------------------------------------------------------')\n",
    "    print('                 Testing eSCAPE installation                 ')\n",
    "    print('-------------------------------------------------------------')\n",
    "    print\n",
    "    str_fmt = \"{:35} {:9}\"\n",
    "    print(str_fmt.format('Maximum deposition thickness (m):', EDmax))\n",
    "    print(str_fmt.format('Minimum deposition thickness (m):', EDmin))\n",
    "    print\n",
    "    print(str_fmt.format('Maximum elevation (m):', hmax))\n",
    "    print(str_fmt.format('Minimum elevation (m):', hmin))\n",
    "    print\n",
    "    print('-------------------------------------------------------------')\n",
    "    print('           Comparison with expected installation             ')\n",
    "    print('-------------------------------------------------------------')\n",
    "    print\n",
    "    str_fmt = \"{:35} {:5.2f}\"\n",
    "    print(str_fmt.format('Difference in max deposition thickness (m):', abs(EDmax-EDmaxInstall)))\n",
    "    print(str_fmt.format('Difference in min deposition thickness (m):', abs(EDmin-EDminInstall)))\n",
    "    print\n",
    "    print(str_fmt.format('Difference in maximum elevation (m):', abs(hmax-hmaxInstall)))\n",
    "    print(str_fmt.format('Difference in minimum elevation (m):', abs(hmin-hminInstall)))\n",
    "    print\n",
    "    print\n",
    "    print('-------------------------------------------------------------')\n",
    "    print('                      ending eSCAPE test                     ')\n",
    "    print('-------------------------------------------------------------')\n",
    "\n",
    "# Cleaning model\n",
    "model.destroy()\n",
    "```"
   ]
  },
  {
   "cell_type": "markdown",
   "metadata": {},
   "source": [
    "The file requires the input file (`input_test.yml`) and we also set the verbose and log functionalities on.\n",
    "\n",
    "To call **eSCAPE** in parallel the following command needs to be used:"
   ]
  },
  {
   "cell_type": "code",
   "execution_count": null,
   "metadata": {
    "scrolled": false
   },
   "outputs": [],
   "source": [
    "!mpirun -np 4 python run_escape.py -i input_test.yml -v -l"
   ]
  },
  {
   "cell_type": "markdown",
   "metadata": {},
   "source": [
    "The model output provided above contains the comparisons with the expected values for elevation and erosion deposition as well as the runtime (this later should be around 2.5 seconds).\n",
    "\n",
    "For comparisons between obtained log from your installation and expected log a file called `test.out` is provided in the `test` directory and could be used to check any potential issues.\n",
    "\n",
    "If you are unsure about the result of your test, <a href=\"MAILTO:tristan.salles@sydney.edu.au?subject=eSCAPE User Group&body=Please send me an invite to join the eSCAPE User Group\">Join eSCAPE User Group</a>"
   ]
  },
  {
   "cell_type": "markdown",
   "metadata": {},
   "source": [
    "# Paraview visualisation\n",
    "\n",
    "The model outputs are located in the `testinstall` folder and consist of a time series file named `eSCAPE.xdmf` and 2 folders (`h5` and `xmf`). The XDMF file is the main entry point for visualising the output and should be sufficient for most users. \n",
    "\n",
    "The file can be opened with the **Paraview** software. \n",
    "\n",
    "<div class=\"alert alert-block alert-info\">\n",
    "The video below provides an example of how to visualise the output of this simulation.</div>"
   ]
  },
  {
   "cell_type": "code",
   "execution_count": null,
   "metadata": {},
   "outputs": [],
   "source": [
    "from IPython.display import HTML\n",
    "HTML('<video controls=\"controls\" width=\"800\" height=\"600\" name=\"eSCAPE Paraview\" src=\"data/paraview_test.mov\"></video>')"
   ]
  },
  {
   "cell_type": "markdown",
   "metadata": {},
   "source": [
    "After loading the file in paraview, we perform 2 operations:\n",
    "+ first we use the `wrap by scalar` filter to create a 2D representation of the surface\n",
    "+ then we define a `contour` line corresponding to the sea-level position (500 m as set in the `YAML` input file)"
   ]
  },
  {
   "cell_type": "code",
   "execution_count": null,
   "metadata": {},
   "outputs": [],
   "source": []
  }
 ],
 "metadata": {
  "kernelspec": {
   "display_name": "Python 2",
   "language": "python",
   "name": "python2"
  },
  "language_info": {
   "codemirror_mode": {
    "name": "ipython",
    "version": 2
   },
   "file_extension": ".py",
   "mimetype": "text/x-python",
   "name": "python",
   "nbconvert_exporter": "python",
   "pygments_lexer": "ipython2",
   "version": "2.7.12"
  }
 },
 "nbformat": 4,
 "nbformat_minor": 2
}
